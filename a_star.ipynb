{
 "cells": [
  {
   "cell_type": "code",
   "execution_count": 1,
   "id": "100550a0",
   "metadata": {},
   "outputs": [],
   "source": [
    "from queue import PriorityQueue"
   ]
  },
  {
   "cell_type": "code",
   "execution_count": 2,
   "id": "3de3bbb1",
   "metadata": {},
   "outputs": [],
   "source": [
    "def manhattan_dist(current, goal):\n",
    "    dx = abs(current.x - goal.x)\n",
    "    dy = abs(current.y - goal.y)\n",
    "    return dx + dy"
   ]
  },
  {
   "cell_type": "code",
   "execution_count": 3,
   "id": "94e77c72",
   "metadata": {},
   "outputs": [],
   "source": [
    "def a_star_solver(maze):\n",
    "    visited = []\n",
    "    frontier = PriorityQueue() # store cells to be explored, order by total cost\n",
    "    came_from = {} # store previous cell\n",
    "    cost_so_far = {maze.maze[y][x]: float('inf') for x in range(maze.width) for y in range(maze.height)} # store cost to each cell from start\n",
    "    counter = 0 # count the number of runs, used in case of equal priority\n",
    "    \n",
    "    frontier.put((0, counter, maze.start))\n",
    "    cost_so_far[maze.start] = 0\n",
    "    came_from[maze.start] = None\n",
    "    \n",
    "    while not frontier.empty():\n",
    "        priority, _, current = frontier.get()\n",
    "        visited.append(current)\n",
    "        \n",
    "        if current == maze.goal:\n",
    "            return came_from\n",
    "        \n",
    "        neighbors = maze.get_neighbors(current)\n",
    "        for n in neighbors:\n",
    "            counter += 1\n",
    "            cost = cost_so_far[current] + 1\n",
    "            total_cost = cost + manhattan_dist(n, maze.goal)\n",
    "            if n not in visited or cost < cost_so_far[n]:\n",
    "                visited.append(n)\n",
    "                cost_so_far[n] = cost\n",
    "                frontier.put((total_cost, counter, n))\n",
    "                came_from[n] = current\n",
    "    return came_from"
   ]
  },
  {
   "cell_type": "code",
   "execution_count": 4,
   "id": "da2dbc91",
   "metadata": {},
   "outputs": [],
   "source": [
    "def get_solution(maze, came_from):\n",
    "    path = []\n",
    "    if maze.goal in came_from:\n",
    "        current = maze.goal\n",
    "        while current != maze.start:\n",
    "            path.insert(0, current)\n",
    "            current = came_from[current]\n",
    "        path.insert(0, maze.start)\n",
    "    return path"
   ]
  }
 ],
 "metadata": {
  "kernelspec": {
   "display_name": "Python 3 (ipykernel)",
   "language": "python",
   "name": "python3"
  },
  "language_info": {
   "codemirror_mode": {
    "name": "ipython",
    "version": 3
   },
   "file_extension": ".py",
   "mimetype": "text/x-python",
   "name": "python",
   "nbconvert_exporter": "python",
   "pygments_lexer": "ipython3",
   "version": "3.10.11"
  }
 },
 "nbformat": 4,
 "nbformat_minor": 5
}
