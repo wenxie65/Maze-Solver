{
 "cells": [
  {
   "cell_type": "code",
   "execution_count": 2,
   "id": "6a5eaecd",
   "metadata": {},
   "outputs": [],
   "source": [
    "def dfs_solver(maze):\n",
    "    stack = [(maze.start, [])]\n",
    "    visited = []\n",
    "    \n",
    "    if not maze.start or not maze.goal:\n",
    "        return []\n",
    "    \n",
    "    while len(stack) > 0:\n",
    "        cell, path = stack.pop()\n",
    "        visited.append(cell)\n",
    "        if cell == maze.goal:\n",
    "            return path + [cell]\n",
    "        \n",
    "        neighbors = maze.get_neighbors(cell)\n",
    "        for n in neighbors:\n",
    "            if n not in visited:\n",
    "                stack.append((n, path + [cell]))\n",
    "    return []"
   ]
  },
  {
   "cell_type": "code",
   "execution_count": null,
   "id": "eb4f07e9",
   "metadata": {},
   "outputs": [],
   "source": []
  }
 ],
 "metadata": {
  "kernelspec": {
   "display_name": "Python 3 (ipykernel)",
   "language": "python",
   "name": "python3"
  },
  "language_info": {
   "codemirror_mode": {
    "name": "ipython",
    "version": 3
   },
   "file_extension": ".py",
   "mimetype": "text/x-python",
   "name": "python",
   "nbconvert_exporter": "python",
   "pygments_lexer": "ipython3",
   "version": "3.10.11"
  }
 },
 "nbformat": 4,
 "nbformat_minor": 5
}
