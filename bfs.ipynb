{
 "cells": [
  {
   "cell_type": "code",
   "execution_count": 3,
   "id": "fcfe0dcb",
   "metadata": {},
   "outputs": [],
   "source": [
    "def bfs_solver(maze):\n",
    "    queue = [(maze.start, [])]\n",
    "    visited = []\n",
    "    \n",
    "    if not maze.start or not maze.goal:\n",
    "        return []\n",
    "    \n",
    "    while len(queue) > 0:\n",
    "        cell, path = queue.pop(0)\n",
    "        visited.append(cell)\n",
    "        if cell == maze.goal:\n",
    "            return path + [cell]\n",
    "        \n",
    "        neighbors = maze.get_neighbors(cell)\n",
    "        for n in neighbors:\n",
    "            if n not in visited:\n",
    "                queue.append((n, path + [cell]))\n",
    "    return []"
   ]
  },
  {
   "cell_type": "code",
   "execution_count": null,
   "id": "8990406e",
   "metadata": {},
   "outputs": [],
   "source": []
  }
 ],
 "metadata": {
  "kernelspec": {
   "display_name": "Python 3 (ipykernel)",
   "language": "python",
   "name": "python3"
  },
  "language_info": {
   "codemirror_mode": {
    "name": "ipython",
    "version": 3
   },
   "file_extension": ".py",
   "mimetype": "text/x-python",
   "name": "python",
   "nbconvert_exporter": "python",
   "pygments_lexer": "ipython3",
   "version": "3.10.11"
  }
 },
 "nbformat": 4,
 "nbformat_minor": 5
}
